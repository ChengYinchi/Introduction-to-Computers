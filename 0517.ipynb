{
  "nbformat": 4,
  "nbformat_minor": 0,
  "metadata": {
    "colab": {
      "provenance": [],
      "authorship_tag": "ABX9TyMhGidImAkyoIq+/cWNDi/M",
      "include_colab_link": true
    },
    "kernelspec": {
      "name": "python3",
      "display_name": "Python 3"
    },
    "language_info": {
      "name": "python"
    }
  },
  "cells": [
    {
      "cell_type": "markdown",
      "metadata": {
        "id": "view-in-github",
        "colab_type": "text"
      },
      "source": [
        "<a href=\"https://colab.research.google.com/github/ChengYinchi/Introduction-to-Computers/blob/main/0517.ipynb\" target=\"_parent\"><img src=\"https://colab.research.google.com/assets/colab-badge.svg\" alt=\"Open In Colab\"/></a>"
      ]
    },
    {
      "cell_type": "code",
      "execution_count": 8,
      "metadata": {
        "colab": {
          "base_uri": "https://localhost:8080/"
        },
        "id": "q0JgMSboxuBB",
        "outputId": "9ff27ee1-1939-4c99-a574-253b0fec1a50"
      },
      "outputs": [
        {
          "output_type": "stream",
          "name": "stdout",
          "text": [
            "score:90\n",
            "Grade is: A\n"
          ]
        }
      ],
      "source": [
        "score = int(input(\"score:\"))\n",
        "if score >= 90:\n",
        "    print('Grade is: A')\n",
        "elif score >=80:\n",
        "    print('Grade is: B')\n",
        "elif score >=70:\n",
        "    print('Grade is: C')\n",
        "elif score >=60:\n",
        "    print('Grade is: D')\n",
        "else: \n",
        "    print('Grade is: F')"
      ]
    },
    {
      "cell_type": "code",
      "source": [
        "month = int(input(\"請輸入月份:\"))\n",
        "if month >=1 and month <=3:\n",
        "     print(\"春季\")\n",
        "elif month >=4 and month <=6:\n",
        "     print(\"夏季\")\n",
        "elif month >=7 and month <=9:\n",
        "     print(\"秋季\")\n",
        "elif month >=10 and month <=12:\n",
        "     print(\"冬季\")\n",
        "else:\n",
        "     print(\"無效月份\")"
      ],
      "metadata": {
        "colab": {
          "base_uri": "https://localhost:8080/"
        },
        "id": "IiZ8b8O30JB0",
        "outputId": "ce63ef52-3bfb-433d-eaac-82e43c92f88d"
      },
      "execution_count": 6,
      "outputs": [
        {
          "output_type": "stream",
          "name": "stdout",
          "text": [
            "請輸入月份:12\n",
            "冬季\n"
          ]
        }
      ]
    },
    {
      "cell_type": "code",
      "source": [
        "\n",
        "score = int(input(\"score:\"))\n",
        "if score >=90:\n",
        "    print('Grade is: A')\n",
        "elif score >=80:\n",
        "    print('Grade is: B')\n",
        "elif score >=70:\n",
        "    print('Grade is: C')\n",
        "elif score >=60:\n",
        "    print('Grade is: D')\n",
        "else:\n",
        "    print('Grade is: F')"
      ],
      "metadata": {
        "colab": {
          "base_uri": "https://localhost:8080/"
        },
        "id": "byX_TPo42ZnA",
        "outputId": "66f1625b-1138-4a4c-d89d-27b00e147285"
      },
      "execution_count": 9,
      "outputs": [
        {
          "output_type": "stream",
          "name": "stdout",
          "text": [
            "score:77\n",
            "Grade is: C\n"
          ]
        }
      ]
    },
    {
      "cell_type": "code",
      "source": [
        "temperature=int(input(\"請輸入溫度：\"))\n",
        "if temperature >=37.5:\n",
        "   print(\"體溫過高\")\n",
        "elif temperature >=37 and temperature <=37.4:\n",
        "   print(\"體溫略高\")\n",
        "elif temperature >=34 and temperature <=36.9:\n",
        "   print(\"體溫正常\")\n",
        "elif temperature <34:\n",
        "   print(\"體溫異常,請重新測量\")\n",
        "   "
      ],
      "metadata": {
        "colab": {
          "base_uri": "https://localhost:8080/"
        },
        "id": "1gj5tAKk33Cy",
        "outputId": "c203cdfc-2d8f-426f-e831-f0482ba09e2b"
      },
      "execution_count": 14,
      "outputs": [
        {
          "output_type": "stream",
          "name": "stdout",
          "text": [
            "請輸入溫度：32\n",
            "體溫異常,請重新測量\n"
          ]
        }
      ]
    },
    {
      "cell_type": "code",
      "source": [
        "rain = input(\"今天會下雨嗎?\")\n",
        "if(rain==\"Y\" or rain==\"y\"):\n",
        "  print(\"不用帶傘\")\n",
        "else:\n",
        "  print(\"請重新輸入\")"
      ],
      "metadata": {
        "colab": {
          "base_uri": "https://localhost:8080/"
        },
        "id": "i5wAWs0A6G5A",
        "outputId": "14f71ce2-047b-48aa-cc50-f4b425501ebb"
      },
      "execution_count": 16,
      "outputs": [
        {
          "output_type": "stream",
          "name": "stdout",
          "text": [
            "今天會下雨嗎?X\n",
            "請重新輸入\n"
          ]
        }
      ]
    },
    {
      "cell_type": "code",
      "source": [
        "salary = int(input(\"請輸入今年收入淨額：\"))\n",
        "if salary >=2000000:\n",
        "   print(\"付稅金額:\",0.3*salary,\"元\")\n",
        "elif salary >=1000000:\n",
        "   print(\"付稅金額:\",0.21*salary,\"元\")\n",
        "elif salary >=600000:\n",
        "   print(\"付稅金額:\",0.13*salary,\"元\")\n",
        "elif salary >=300000:\n",
        "   print(\"付稅金額:\",0.06*salary,\"元\")\n",
        "else:\n",
        "   print(\"付稅金額:\",0*salary,\"元\")"
      ],
      "metadata": {
        "colab": {
          "base_uri": "https://localhost:8080/"
        },
        "id": "gTuegbWT68AN",
        "outputId": "d7dd5190-7446-4a5c-a969-b745a69dd879"
      },
      "execution_count": 30,
      "outputs": [
        {
          "output_type": "stream",
          "name": "stdout",
          "text": [
            "請輸入今年收入淨額：3000000\n",
            "付稅金額: 900000.0 元\n"
          ]
        }
      ]
    }
  ]
}